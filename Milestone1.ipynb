{
  "nbformat": 4,
  "nbformat_minor": 0,
  "metadata": {
    "colab": {
      "provenance": [],
      "collapsed_sections": [
        "fR7BUtD38h-2",
        "o5RJr-doQaBL",
        "cmC3d31IT41n"
      ]
    },
    "kernelspec": {
      "name": "python3",
      "display_name": "Python 3"
    },
    "language_info": {
      "name": "python"
    }
  },
  "cells": [
    {
      "cell_type": "markdown",
      "source": [
        "## **IMPORTING NECESSARY LIBRARIES**"
      ],
      "metadata": {
        "id": "fR7BUtD38h-2"
      }
    },
    {
      "cell_type": "code",
      "execution_count": 1,
      "metadata": {
        "id": "z3DXdNfh8crG"
      },
      "outputs": [],
      "source": [
        "import pandas as pd\n",
        "import numpy as np\n",
        "import matplotlib.pyplot as plt\n",
        "import seaborn as sns\n",
        "import warnings\n",
        "from sklearn.preprocessing import LabelEncoder\n",
        "from sklearn.preprocessing import MinMaxScaler\n",
        "from sklearn.model_selection import train_test_split\n",
        "from textblob import TextBlob\n",
        "warnings.filterwarnings(\"ignore\")\n",
        "from sklearn.metrics import accuracy_score,recall_score,confusion_matrix,classification_report,precision_score,f1_score\n",
        "from sklearn.linear_model import LogisticRegression\n",
        "from sklearn.tree import  DecisionTreeClassifier\n",
        "from sklearn.ensemble import RandomForestClassifier\n",
        "from sklearn.naive_bayes import BernoulliNB\n",
        "from sklearn.svm import SVC\n",
        "from sklearn.neighbors import KNeighborsClassifier\n",
        "from sklearn.naive_bayes import GaussianNB\n",
        "from sklearn.ensemble import VotingClassifier"
      ]
    },
    {
      "cell_type": "markdown",
      "source": [
        "MOUNTING TO GOOGLE DRIVE"
      ],
      "metadata": {
        "id": "_rWBo7Gj80H5"
      }
    },
    {
      "cell_type": "code",
      "source": [
        "from google.colab import drive\n",
        "drive.mount('/content/drive')"
      ],
      "metadata": {
        "colab": {
          "base_uri": "https://localhost:8080/"
        },
        "id": "D_GkmOzW8291",
        "outputId": "8e317468-aecc-45c4-a0b7-29bb0fb8eb2e"
      },
      "execution_count": 2,
      "outputs": [
        {
          "output_type": "stream",
          "name": "stdout",
          "text": [
            "Mounted at /content/drive\n"
          ]
        }
      ]
    },
    {
      "cell_type": "markdown",
      "source": [
        "### **READING THE DATASET**"
      ],
      "metadata": {
        "id": "VZ9iJlSj9FdA"
      }
    },
    {
      "cell_type": "code",
      "source": [
        "df= pd.read_csv('/content/drive/MyDrive/Colab Notebooks/dataset/webmd.csv')\n",
        "df.head()"
      ],
      "metadata": {
        "colab": {
          "base_uri": "https://localhost:8080/",
          "height": 496
        },
        "id": "KcI_kdyo9Hu4",
        "outputId": "7877e2b0-4019-4ea8-f92b-d59de8feed4c"
      },
      "execution_count": 4,
      "outputs": [
        {
          "output_type": "execute_result",
          "data": {
            "text/plain": [
              "          Age      Condition       Date                          Drug  DrugId  \\\n",
              "0  75 or over    Stuffy Nose  9/21/2014                  25dph-7.5peh  146724   \n",
              "1       25-34  Cold Symptoms  1/13/2011                  25dph-7.5peh  146724   \n",
              "2       65-74          Other  7/16/2012  warfarin (bulk) 100 % powder  144731   \n",
              "3  75 or over          Other  9/23/2010  warfarin (bulk) 100 % powder  144731   \n",
              "4       35-44          Other   1/6/2009  warfarin (bulk) 100 % powder  144731   \n",
              "\n",
              "   EaseofUse  Effectiveness  \\\n",
              "0          5              5   \n",
              "1          5              5   \n",
              "2          2              3   \n",
              "3          2              2   \n",
              "4          1              1   \n",
              "\n",
              "                                             Reviews  Satisfaction     Sex  \\\n",
              "0  I'm a retired physician and of all the meds I ...             5    Male   \n",
              "1  cleared me right up even with my throat hurtin...             5  Female   \n",
              "2  why did my PTINR go from a normal of 2.5 to ov...             3  Female   \n",
              "3                       FALLING AND DON'T REALISE IT             1  Female   \n",
              "4  My grandfather was prescribed this medication ...             1    Male   \n",
              "\n",
              "                                               Sides  UsefulCount  \n",
              "0  Drowsiness,  dizziness ,  dry mouth /nose/thro...            0  \n",
              "1  Drowsiness,  dizziness ,  dry mouth /nose/thro...            1  \n",
              "2                                                               0  \n",
              "3                                                               0  \n",
              "4                                                               1  "
            ],
            "text/html": [
              "\n",
              "  <div id=\"df-b0947c5f-cd42-4cfd-bd8b-cc48ddb6c371\">\n",
              "    <div class=\"colab-df-container\">\n",
              "      <div>\n",
              "<style scoped>\n",
              "    .dataframe tbody tr th:only-of-type {\n",
              "        vertical-align: middle;\n",
              "    }\n",
              "\n",
              "    .dataframe tbody tr th {\n",
              "        vertical-align: top;\n",
              "    }\n",
              "\n",
              "    .dataframe thead th {\n",
              "        text-align: right;\n",
              "    }\n",
              "</style>\n",
              "<table border=\"1\" class=\"dataframe\">\n",
              "  <thead>\n",
              "    <tr style=\"text-align: right;\">\n",
              "      <th></th>\n",
              "      <th>Age</th>\n",
              "      <th>Condition</th>\n",
              "      <th>Date</th>\n",
              "      <th>Drug</th>\n",
              "      <th>DrugId</th>\n",
              "      <th>EaseofUse</th>\n",
              "      <th>Effectiveness</th>\n",
              "      <th>Reviews</th>\n",
              "      <th>Satisfaction</th>\n",
              "      <th>Sex</th>\n",
              "      <th>Sides</th>\n",
              "      <th>UsefulCount</th>\n",
              "    </tr>\n",
              "  </thead>\n",
              "  <tbody>\n",
              "    <tr>\n",
              "      <th>0</th>\n",
              "      <td>75 or over</td>\n",
              "      <td>Stuffy Nose</td>\n",
              "      <td>9/21/2014</td>\n",
              "      <td>25dph-7.5peh</td>\n",
              "      <td>146724</td>\n",
              "      <td>5</td>\n",
              "      <td>5</td>\n",
              "      <td>I'm a retired physician and of all the meds I ...</td>\n",
              "      <td>5</td>\n",
              "      <td>Male</td>\n",
              "      <td>Drowsiness,  dizziness ,  dry mouth /nose/thro...</td>\n",
              "      <td>0</td>\n",
              "    </tr>\n",
              "    <tr>\n",
              "      <th>1</th>\n",
              "      <td>25-34</td>\n",
              "      <td>Cold Symptoms</td>\n",
              "      <td>1/13/2011</td>\n",
              "      <td>25dph-7.5peh</td>\n",
              "      <td>146724</td>\n",
              "      <td>5</td>\n",
              "      <td>5</td>\n",
              "      <td>cleared me right up even with my throat hurtin...</td>\n",
              "      <td>5</td>\n",
              "      <td>Female</td>\n",
              "      <td>Drowsiness,  dizziness ,  dry mouth /nose/thro...</td>\n",
              "      <td>1</td>\n",
              "    </tr>\n",
              "    <tr>\n",
              "      <th>2</th>\n",
              "      <td>65-74</td>\n",
              "      <td>Other</td>\n",
              "      <td>7/16/2012</td>\n",
              "      <td>warfarin (bulk) 100 % powder</td>\n",
              "      <td>144731</td>\n",
              "      <td>2</td>\n",
              "      <td>3</td>\n",
              "      <td>why did my PTINR go from a normal of 2.5 to ov...</td>\n",
              "      <td>3</td>\n",
              "      <td>Female</td>\n",
              "      <td></td>\n",
              "      <td>0</td>\n",
              "    </tr>\n",
              "    <tr>\n",
              "      <th>3</th>\n",
              "      <td>75 or over</td>\n",
              "      <td>Other</td>\n",
              "      <td>9/23/2010</td>\n",
              "      <td>warfarin (bulk) 100 % powder</td>\n",
              "      <td>144731</td>\n",
              "      <td>2</td>\n",
              "      <td>2</td>\n",
              "      <td>FALLING AND DON'T REALISE IT</td>\n",
              "      <td>1</td>\n",
              "      <td>Female</td>\n",
              "      <td></td>\n",
              "      <td>0</td>\n",
              "    </tr>\n",
              "    <tr>\n",
              "      <th>4</th>\n",
              "      <td>35-44</td>\n",
              "      <td>Other</td>\n",
              "      <td>1/6/2009</td>\n",
              "      <td>warfarin (bulk) 100 % powder</td>\n",
              "      <td>144731</td>\n",
              "      <td>1</td>\n",
              "      <td>1</td>\n",
              "      <td>My grandfather was prescribed this medication ...</td>\n",
              "      <td>1</td>\n",
              "      <td>Male</td>\n",
              "      <td></td>\n",
              "      <td>1</td>\n",
              "    </tr>\n",
              "  </tbody>\n",
              "</table>\n",
              "</div>\n",
              "      <button class=\"colab-df-convert\" onclick=\"convertToInteractive('df-b0947c5f-cd42-4cfd-bd8b-cc48ddb6c371')\"\n",
              "              title=\"Convert this dataframe to an interactive table.\"\n",
              "              style=\"display:none;\">\n",
              "        \n",
              "  <svg xmlns=\"http://www.w3.org/2000/svg\" height=\"24px\"viewBox=\"0 0 24 24\"\n",
              "       width=\"24px\">\n",
              "    <path d=\"M0 0h24v24H0V0z\" fill=\"none\"/>\n",
              "    <path d=\"M18.56 5.44l.94 2.06.94-2.06 2.06-.94-2.06-.94-.94-2.06-.94 2.06-2.06.94zm-11 1L8.5 8.5l.94-2.06 2.06-.94-2.06-.94L8.5 2.5l-.94 2.06-2.06.94zm10 10l.94 2.06.94-2.06 2.06-.94-2.06-.94-.94-2.06-.94 2.06-2.06.94z\"/><path d=\"M17.41 7.96l-1.37-1.37c-.4-.4-.92-.59-1.43-.59-.52 0-1.04.2-1.43.59L10.3 9.45l-7.72 7.72c-.78.78-.78 2.05 0 2.83L4 21.41c.39.39.9.59 1.41.59.51 0 1.02-.2 1.41-.59l7.78-7.78 2.81-2.81c.8-.78.8-2.07 0-2.86zM5.41 20L4 18.59l7.72-7.72 1.47 1.35L5.41 20z\"/>\n",
              "  </svg>\n",
              "      </button>\n",
              "      \n",
              "  <style>\n",
              "    .colab-df-container {\n",
              "      display:flex;\n",
              "      flex-wrap:wrap;\n",
              "      gap: 12px;\n",
              "    }\n",
              "\n",
              "    .colab-df-convert {\n",
              "      background-color: #E8F0FE;\n",
              "      border: none;\n",
              "      border-radius: 50%;\n",
              "      cursor: pointer;\n",
              "      display: none;\n",
              "      fill: #1967D2;\n",
              "      height: 32px;\n",
              "      padding: 0 0 0 0;\n",
              "      width: 32px;\n",
              "    }\n",
              "\n",
              "    .colab-df-convert:hover {\n",
              "      background-color: #E2EBFA;\n",
              "      box-shadow: 0px 1px 2px rgba(60, 64, 67, 0.3), 0px 1px 3px 1px rgba(60, 64, 67, 0.15);\n",
              "      fill: #174EA6;\n",
              "    }\n",
              "\n",
              "    [theme=dark] .colab-df-convert {\n",
              "      background-color: #3B4455;\n",
              "      fill: #D2E3FC;\n",
              "    }\n",
              "\n",
              "    [theme=dark] .colab-df-convert:hover {\n",
              "      background-color: #434B5C;\n",
              "      box-shadow: 0px 1px 3px 1px rgba(0, 0, 0, 0.15);\n",
              "      filter: drop-shadow(0px 1px 2px rgba(0, 0, 0, 0.3));\n",
              "      fill: #FFFFFF;\n",
              "    }\n",
              "  </style>\n",
              "\n",
              "      <script>\n",
              "        const buttonEl =\n",
              "          document.querySelector('#df-b0947c5f-cd42-4cfd-bd8b-cc48ddb6c371 button.colab-df-convert');\n",
              "        buttonEl.style.display =\n",
              "          google.colab.kernel.accessAllowed ? 'block' : 'none';\n",
              "\n",
              "        async function convertToInteractive(key) {\n",
              "          const element = document.querySelector('#df-b0947c5f-cd42-4cfd-bd8b-cc48ddb6c371');\n",
              "          const dataTable =\n",
              "            await google.colab.kernel.invokeFunction('convertToInteractive',\n",
              "                                                     [key], {});\n",
              "          if (!dataTable) return;\n",
              "\n",
              "          const docLinkHtml = 'Like what you see? Visit the ' +\n",
              "            '<a target=\"_blank\" href=https://colab.research.google.com/notebooks/data_table.ipynb>data table notebook</a>'\n",
              "            + ' to learn more about interactive tables.';\n",
              "          element.innerHTML = '';\n",
              "          dataTable['output_type'] = 'display_data';\n",
              "          await google.colab.output.renderOutput(dataTable, element);\n",
              "          const docLink = document.createElement('div');\n",
              "          docLink.innerHTML = docLinkHtml;\n",
              "          element.appendChild(docLink);\n",
              "        }\n",
              "      </script>\n",
              "    </div>\n",
              "  </div>\n",
              "  "
            ]
          },
          "metadata": {},
          "execution_count": 4
        }
      ]
    },
    {
      "cell_type": "markdown",
      "source": [
        "# **EXPLORATORY DATA ANALYSIS**"
      ],
      "metadata": {
        "id": "o5RJr-doQaBL"
      }
    },
    {
      "cell_type": "markdown",
      "source": [
        "**NUMBER OF ROWS AND COLUMNS**"
      ],
      "metadata": {
        "id": "agLVlAa1Qe6j"
      }
    },
    {
      "cell_type": "code",
      "source": [
        "df.shape"
      ],
      "metadata": {
        "colab": {
          "base_uri": "https://localhost:8080/"
        },
        "id": "RlVzCawAQfrq",
        "outputId": "535c836b-0f98-437e-c9eb-4036a03657c0"
      },
      "execution_count": 6,
      "outputs": [
        {
          "output_type": "execute_result",
          "data": {
            "text/plain": [
              "(362806, 12)"
            ]
          },
          "metadata": {},
          "execution_count": 6
        }
      ]
    },
    {
      "cell_type": "markdown",
      "source": [
        "There are 362806 records and 12 features inside the dataset"
      ],
      "metadata": {
        "id": "_YtcEwpVVmlw"
      }
    },
    {
      "cell_type": "markdown",
      "source": [
        "**DATA INFO**"
      ],
      "metadata": {
        "id": "pGLlUh-vQpyf"
      }
    },
    {
      "cell_type": "code",
      "source": [
        "df.info()"
      ],
      "metadata": {
        "colab": {
          "base_uri": "https://localhost:8080/"
        },
        "id": "Hx2dMWGoQqdP",
        "outputId": "85844ad2-a654-40c3-a016-d915e099488a"
      },
      "execution_count": 7,
      "outputs": [
        {
          "output_type": "stream",
          "name": "stdout",
          "text": [
            "<class 'pandas.core.frame.DataFrame'>\n",
            "RangeIndex: 362806 entries, 0 to 362805\n",
            "Data columns (total 12 columns):\n",
            " #   Column         Non-Null Count   Dtype \n",
            "---  ------         --------------   ----- \n",
            " 0   Age            362806 non-null  object\n",
            " 1   Condition      362806 non-null  object\n",
            " 2   Date           362806 non-null  object\n",
            " 3   Drug           362806 non-null  object\n",
            " 4   DrugId         362806 non-null  int64 \n",
            " 5   EaseofUse      362806 non-null  int64 \n",
            " 6   Effectiveness  362806 non-null  int64 \n",
            " 7   Reviews        362769 non-null  object\n",
            " 8   Satisfaction   362806 non-null  int64 \n",
            " 9   Sex            362806 non-null  object\n",
            " 10  Sides          362806 non-null  object\n",
            " 11  UsefulCount    362806 non-null  int64 \n",
            "dtypes: int64(5), object(7)\n",
            "memory usage: 33.2+ MB\n"
          ]
        }
      ]
    },
    {
      "cell_type": "markdown",
      "source": [
        "**DESCRIPTIVE ANALYSIS**"
      ],
      "metadata": {
        "id": "IDZsv8IuQyeb"
      }
    },
    {
      "cell_type": "code",
      "source": [
        "df.describe()"
      ],
      "metadata": {
        "colab": {
          "base_uri": "https://localhost:8080/",
          "height": 300
        },
        "id": "5R5DhTvdQziD",
        "outputId": "6aa6a615-6001-482f-a573-17d7d2d905e9"
      },
      "execution_count": 8,
      "outputs": [
        {
          "output_type": "execute_result",
          "data": {
            "text/plain": [
              "              DrugId      EaseofUse  Effectiveness   Satisfaction  \\\n",
              "count  362806.000000  362806.000000  362806.000000  362806.000000   \n",
              "mean    36879.370774       4.019829       3.532061       3.135408   \n",
              "std     52624.412971       1.317711       1.455961       1.611106   \n",
              "min         1.000000       1.000000       1.000000       1.000000   \n",
              "25%      4896.000000       3.000000       3.000000       1.000000   \n",
              "50%      9548.000000       5.000000       4.000000       3.000000   \n",
              "75%     63522.000000       5.000000       5.000000       5.000000   \n",
              "max    178546.000000      10.000000      10.000000      10.000000   \n",
              "\n",
              "         UsefulCount  \n",
              "count  362806.000000  \n",
              "mean        6.744916  \n",
              "std         9.324240  \n",
              "min         0.000000  \n",
              "25%         1.000000  \n",
              "50%         4.000000  \n",
              "75%         9.000000  \n",
              "max       255.000000  "
            ],
            "text/html": [
              "\n",
              "  <div id=\"df-d2555311-7491-4d12-9b4a-32f01d6b70d8\">\n",
              "    <div class=\"colab-df-container\">\n",
              "      <div>\n",
              "<style scoped>\n",
              "    .dataframe tbody tr th:only-of-type {\n",
              "        vertical-align: middle;\n",
              "    }\n",
              "\n",
              "    .dataframe tbody tr th {\n",
              "        vertical-align: top;\n",
              "    }\n",
              "\n",
              "    .dataframe thead th {\n",
              "        text-align: right;\n",
              "    }\n",
              "</style>\n",
              "<table border=\"1\" class=\"dataframe\">\n",
              "  <thead>\n",
              "    <tr style=\"text-align: right;\">\n",
              "      <th></th>\n",
              "      <th>DrugId</th>\n",
              "      <th>EaseofUse</th>\n",
              "      <th>Effectiveness</th>\n",
              "      <th>Satisfaction</th>\n",
              "      <th>UsefulCount</th>\n",
              "    </tr>\n",
              "  </thead>\n",
              "  <tbody>\n",
              "    <tr>\n",
              "      <th>count</th>\n",
              "      <td>362806.000000</td>\n",
              "      <td>362806.000000</td>\n",
              "      <td>362806.000000</td>\n",
              "      <td>362806.000000</td>\n",
              "      <td>362806.000000</td>\n",
              "    </tr>\n",
              "    <tr>\n",
              "      <th>mean</th>\n",
              "      <td>36879.370774</td>\n",
              "      <td>4.019829</td>\n",
              "      <td>3.532061</td>\n",
              "      <td>3.135408</td>\n",
              "      <td>6.744916</td>\n",
              "    </tr>\n",
              "    <tr>\n",
              "      <th>std</th>\n",
              "      <td>52624.412971</td>\n",
              "      <td>1.317711</td>\n",
              "      <td>1.455961</td>\n",
              "      <td>1.611106</td>\n",
              "      <td>9.324240</td>\n",
              "    </tr>\n",
              "    <tr>\n",
              "      <th>min</th>\n",
              "      <td>1.000000</td>\n",
              "      <td>1.000000</td>\n",
              "      <td>1.000000</td>\n",
              "      <td>1.000000</td>\n",
              "      <td>0.000000</td>\n",
              "    </tr>\n",
              "    <tr>\n",
              "      <th>25%</th>\n",
              "      <td>4896.000000</td>\n",
              "      <td>3.000000</td>\n",
              "      <td>3.000000</td>\n",
              "      <td>1.000000</td>\n",
              "      <td>1.000000</td>\n",
              "    </tr>\n",
              "    <tr>\n",
              "      <th>50%</th>\n",
              "      <td>9548.000000</td>\n",
              "      <td>5.000000</td>\n",
              "      <td>4.000000</td>\n",
              "      <td>3.000000</td>\n",
              "      <td>4.000000</td>\n",
              "    </tr>\n",
              "    <tr>\n",
              "      <th>75%</th>\n",
              "      <td>63522.000000</td>\n",
              "      <td>5.000000</td>\n",
              "      <td>5.000000</td>\n",
              "      <td>5.000000</td>\n",
              "      <td>9.000000</td>\n",
              "    </tr>\n",
              "    <tr>\n",
              "      <th>max</th>\n",
              "      <td>178546.000000</td>\n",
              "      <td>10.000000</td>\n",
              "      <td>10.000000</td>\n",
              "      <td>10.000000</td>\n",
              "      <td>255.000000</td>\n",
              "    </tr>\n",
              "  </tbody>\n",
              "</table>\n",
              "</div>\n",
              "      <button class=\"colab-df-convert\" onclick=\"convertToInteractive('df-d2555311-7491-4d12-9b4a-32f01d6b70d8')\"\n",
              "              title=\"Convert this dataframe to an interactive table.\"\n",
              "              style=\"display:none;\">\n",
              "        \n",
              "  <svg xmlns=\"http://www.w3.org/2000/svg\" height=\"24px\"viewBox=\"0 0 24 24\"\n",
              "       width=\"24px\">\n",
              "    <path d=\"M0 0h24v24H0V0z\" fill=\"none\"/>\n",
              "    <path d=\"M18.56 5.44l.94 2.06.94-2.06 2.06-.94-2.06-.94-.94-2.06-.94 2.06-2.06.94zm-11 1L8.5 8.5l.94-2.06 2.06-.94-2.06-.94L8.5 2.5l-.94 2.06-2.06.94zm10 10l.94 2.06.94-2.06 2.06-.94-2.06-.94-.94-2.06-.94 2.06-2.06.94z\"/><path d=\"M17.41 7.96l-1.37-1.37c-.4-.4-.92-.59-1.43-.59-.52 0-1.04.2-1.43.59L10.3 9.45l-7.72 7.72c-.78.78-.78 2.05 0 2.83L4 21.41c.39.39.9.59 1.41.59.51 0 1.02-.2 1.41-.59l7.78-7.78 2.81-2.81c.8-.78.8-2.07 0-2.86zM5.41 20L4 18.59l7.72-7.72 1.47 1.35L5.41 20z\"/>\n",
              "  </svg>\n",
              "      </button>\n",
              "      \n",
              "  <style>\n",
              "    .colab-df-container {\n",
              "      display:flex;\n",
              "      flex-wrap:wrap;\n",
              "      gap: 12px;\n",
              "    }\n",
              "\n",
              "    .colab-df-convert {\n",
              "      background-color: #E8F0FE;\n",
              "      border: none;\n",
              "      border-radius: 50%;\n",
              "      cursor: pointer;\n",
              "      display: none;\n",
              "      fill: #1967D2;\n",
              "      height: 32px;\n",
              "      padding: 0 0 0 0;\n",
              "      width: 32px;\n",
              "    }\n",
              "\n",
              "    .colab-df-convert:hover {\n",
              "      background-color: #E2EBFA;\n",
              "      box-shadow: 0px 1px 2px rgba(60, 64, 67, 0.3), 0px 1px 3px 1px rgba(60, 64, 67, 0.15);\n",
              "      fill: #174EA6;\n",
              "    }\n",
              "\n",
              "    [theme=dark] .colab-df-convert {\n",
              "      background-color: #3B4455;\n",
              "      fill: #D2E3FC;\n",
              "    }\n",
              "\n",
              "    [theme=dark] .colab-df-convert:hover {\n",
              "      background-color: #434B5C;\n",
              "      box-shadow: 0px 1px 3px 1px rgba(0, 0, 0, 0.15);\n",
              "      filter: drop-shadow(0px 1px 2px rgba(0, 0, 0, 0.3));\n",
              "      fill: #FFFFFF;\n",
              "    }\n",
              "  </style>\n",
              "\n",
              "      <script>\n",
              "        const buttonEl =\n",
              "          document.querySelector('#df-d2555311-7491-4d12-9b4a-32f01d6b70d8 button.colab-df-convert');\n",
              "        buttonEl.style.display =\n",
              "          google.colab.kernel.accessAllowed ? 'block' : 'none';\n",
              "\n",
              "        async function convertToInteractive(key) {\n",
              "          const element = document.querySelector('#df-d2555311-7491-4d12-9b4a-32f01d6b70d8');\n",
              "          const dataTable =\n",
              "            await google.colab.kernel.invokeFunction('convertToInteractive',\n",
              "                                                     [key], {});\n",
              "          if (!dataTable) return;\n",
              "\n",
              "          const docLinkHtml = 'Like what you see? Visit the ' +\n",
              "            '<a target=\"_blank\" href=https://colab.research.google.com/notebooks/data_table.ipynb>data table notebook</a>'\n",
              "            + ' to learn more about interactive tables.';\n",
              "          element.innerHTML = '';\n",
              "          dataTable['output_type'] = 'display_data';\n",
              "          await google.colab.output.renderOutput(dataTable, element);\n",
              "          const docLink = document.createElement('div');\n",
              "          docLink.innerHTML = docLinkHtml;\n",
              "          element.appendChild(docLink);\n",
              "        }\n",
              "      </script>\n",
              "    </div>\n",
              "  </div>\n",
              "  "
            ]
          },
          "metadata": {},
          "execution_count": 8
        }
      ]
    },
    {
      "cell_type": "code",
      "source": [
        "print('Number of drugs present in the dataset :',df['Drug'].nunique())\n",
        "print('Number of unique medical conditions present in the dataset : ',df['Sides'].nunique())\n",
        "\n",
        "print('\\n The time period of collecting the data')\n",
        "print('starting date :',df['Date'].min())\n",
        "print('Ending date :',df['Date'].max())"
      ],
      "metadata": {
        "colab": {
          "base_uri": "https://localhost:8080/"
        },
        "id": "4T_HicBoQ3kS",
        "outputId": "2ae5e693-3ff5-4801-f319-9b36135a5420"
      },
      "execution_count": 9,
      "outputs": [
        {
          "output_type": "stream",
          "name": "stdout",
          "text": [
            "Number of drugs present in the dataset : 7093\n",
            "Number of unique medical conditions present in the dataset :  1651\n",
            "\n",
            " The time period of collecting the data\n",
            "starting date : 1/1/2008\n",
            "Ending date : 9/9/2019\n"
          ]
        }
      ]
    },
    {
      "cell_type": "code",
      "source": [
        "print('Analysis of useless drug')\n",
        "print('__________________________')\n",
        "print('number of drugs with no useful count:', df[df['UsefulCount']==0].count()[0])"
      ],
      "metadata": {
        "colab": {
          "base_uri": "https://localhost:8080/"
        },
        "id": "Ym7uUrIGSGsE",
        "outputId": "50ebe272-dc5c-4806-90be-2b565e275ec3"
      },
      "execution_count": 10,
      "outputs": [
        {
          "output_type": "stream",
          "name": "stdout",
          "text": [
            "Analysis of useless drug\n",
            "__________________________\n",
            "number of drugs with no useful count: 71608\n"
          ]
        }
      ]
    },
    {
      "cell_type": "code",
      "source": [
        "print('Analysis of useful counts')\n",
        "print('___________________________')\n",
        "print('Number of drugs with  more than 100 useful count: ',df[df['UsefulCount']>100].count()[0])"
      ],
      "metadata": {
        "colab": {
          "base_uri": "https://localhost:8080/"
        },
        "id": "ihjo0C1uSJJZ",
        "outputId": "97a26189-5a7f-486c-a10a-b04f958f73f1"
      },
      "execution_count": 11,
      "outputs": [
        {
          "output_type": "stream",
          "name": "stdout",
          "text": [
            "Analysis of useful counts\n",
            "___________________________\n",
            "Number of drugs with  more than 100 useful count:  133\n"
          ]
        }
      ]
    },
    {
      "cell_type": "markdown",
      "source": [
        "**DESCRIPTIVE ANALYSIS OBJECT DATA TYPE**\n"
      ],
      "metadata": {
        "id": "LLPt40awSOOC"
      }
    },
    {
      "cell_type": "code",
      "source": [
        "df.describe(include= 'object')"
      ],
      "metadata": {
        "colab": {
          "base_uri": "https://localhost:8080/",
          "height": 175
        },
        "id": "dZNMkVXLSSWK",
        "outputId": "c42560a8-6326-4b0a-d4c8-077348730d12"
      },
      "execution_count": 12,
      "outputs": [
        {
          "output_type": "execute_result",
          "data": {
            "text/plain": [
              "           Age Condition        Date      Drug Reviews     Sex   Sides\n",
              "count   362806    362806      362806    362806  362769  362806  362806\n",
              "unique      12      1806        4524      7093  250167       3    1651\n",
              "top      45-54     Other  10/29/2007  cymbalta          Female        \n",
              "freq     80043     49765         404      4648   41824  238226   17460"
            ],
            "text/html": [
              "\n",
              "  <div id=\"df-eaba5b76-1d4f-4e92-8351-7bb64c677c16\">\n",
              "    <div class=\"colab-df-container\">\n",
              "      <div>\n",
              "<style scoped>\n",
              "    .dataframe tbody tr th:only-of-type {\n",
              "        vertical-align: middle;\n",
              "    }\n",
              "\n",
              "    .dataframe tbody tr th {\n",
              "        vertical-align: top;\n",
              "    }\n",
              "\n",
              "    .dataframe thead th {\n",
              "        text-align: right;\n",
              "    }\n",
              "</style>\n",
              "<table border=\"1\" class=\"dataframe\">\n",
              "  <thead>\n",
              "    <tr style=\"text-align: right;\">\n",
              "      <th></th>\n",
              "      <th>Age</th>\n",
              "      <th>Condition</th>\n",
              "      <th>Date</th>\n",
              "      <th>Drug</th>\n",
              "      <th>Reviews</th>\n",
              "      <th>Sex</th>\n",
              "      <th>Sides</th>\n",
              "    </tr>\n",
              "  </thead>\n",
              "  <tbody>\n",
              "    <tr>\n",
              "      <th>count</th>\n",
              "      <td>362806</td>\n",
              "      <td>362806</td>\n",
              "      <td>362806</td>\n",
              "      <td>362806</td>\n",
              "      <td>362769</td>\n",
              "      <td>362806</td>\n",
              "      <td>362806</td>\n",
              "    </tr>\n",
              "    <tr>\n",
              "      <th>unique</th>\n",
              "      <td>12</td>\n",
              "      <td>1806</td>\n",
              "      <td>4524</td>\n",
              "      <td>7093</td>\n",
              "      <td>250167</td>\n",
              "      <td>3</td>\n",
              "      <td>1651</td>\n",
              "    </tr>\n",
              "    <tr>\n",
              "      <th>top</th>\n",
              "      <td>45-54</td>\n",
              "      <td>Other</td>\n",
              "      <td>10/29/2007</td>\n",
              "      <td>cymbalta</td>\n",
              "      <td></td>\n",
              "      <td>Female</td>\n",
              "      <td></td>\n",
              "    </tr>\n",
              "    <tr>\n",
              "      <th>freq</th>\n",
              "      <td>80043</td>\n",
              "      <td>49765</td>\n",
              "      <td>404</td>\n",
              "      <td>4648</td>\n",
              "      <td>41824</td>\n",
              "      <td>238226</td>\n",
              "      <td>17460</td>\n",
              "    </tr>\n",
              "  </tbody>\n",
              "</table>\n",
              "</div>\n",
              "      <button class=\"colab-df-convert\" onclick=\"convertToInteractive('df-eaba5b76-1d4f-4e92-8351-7bb64c677c16')\"\n",
              "              title=\"Convert this dataframe to an interactive table.\"\n",
              "              style=\"display:none;\">\n",
              "        \n",
              "  <svg xmlns=\"http://www.w3.org/2000/svg\" height=\"24px\"viewBox=\"0 0 24 24\"\n",
              "       width=\"24px\">\n",
              "    <path d=\"M0 0h24v24H0V0z\" fill=\"none\"/>\n",
              "    <path d=\"M18.56 5.44l.94 2.06.94-2.06 2.06-.94-2.06-.94-.94-2.06-.94 2.06-2.06.94zm-11 1L8.5 8.5l.94-2.06 2.06-.94-2.06-.94L8.5 2.5l-.94 2.06-2.06.94zm10 10l.94 2.06.94-2.06 2.06-.94-2.06-.94-.94-2.06-.94 2.06-2.06.94z\"/><path d=\"M17.41 7.96l-1.37-1.37c-.4-.4-.92-.59-1.43-.59-.52 0-1.04.2-1.43.59L10.3 9.45l-7.72 7.72c-.78.78-.78 2.05 0 2.83L4 21.41c.39.39.9.59 1.41.59.51 0 1.02-.2 1.41-.59l7.78-7.78 2.81-2.81c.8-.78.8-2.07 0-2.86zM5.41 20L4 18.59l7.72-7.72 1.47 1.35L5.41 20z\"/>\n",
              "  </svg>\n",
              "      </button>\n",
              "      \n",
              "  <style>\n",
              "    .colab-df-container {\n",
              "      display:flex;\n",
              "      flex-wrap:wrap;\n",
              "      gap: 12px;\n",
              "    }\n",
              "\n",
              "    .colab-df-convert {\n",
              "      background-color: #E8F0FE;\n",
              "      border: none;\n",
              "      border-radius: 50%;\n",
              "      cursor: pointer;\n",
              "      display: none;\n",
              "      fill: #1967D2;\n",
              "      height: 32px;\n",
              "      padding: 0 0 0 0;\n",
              "      width: 32px;\n",
              "    }\n",
              "\n",
              "    .colab-df-convert:hover {\n",
              "      background-color: #E2EBFA;\n",
              "      box-shadow: 0px 1px 2px rgba(60, 64, 67, 0.3), 0px 1px 3px 1px rgba(60, 64, 67, 0.15);\n",
              "      fill: #174EA6;\n",
              "    }\n",
              "\n",
              "    [theme=dark] .colab-df-convert {\n",
              "      background-color: #3B4455;\n",
              "      fill: #D2E3FC;\n",
              "    }\n",
              "\n",
              "    [theme=dark] .colab-df-convert:hover {\n",
              "      background-color: #434B5C;\n",
              "      box-shadow: 0px 1px 3px 1px rgba(0, 0, 0, 0.15);\n",
              "      filter: drop-shadow(0px 1px 2px rgba(0, 0, 0, 0.3));\n",
              "      fill: #FFFFFF;\n",
              "    }\n",
              "  </style>\n",
              "\n",
              "      <script>\n",
              "        const buttonEl =\n",
              "          document.querySelector('#df-eaba5b76-1d4f-4e92-8351-7bb64c677c16 button.colab-df-convert');\n",
              "        buttonEl.style.display =\n",
              "          google.colab.kernel.accessAllowed ? 'block' : 'none';\n",
              "\n",
              "        async function convertToInteractive(key) {\n",
              "          const element = document.querySelector('#df-eaba5b76-1d4f-4e92-8351-7bb64c677c16');\n",
              "          const dataTable =\n",
              "            await google.colab.kernel.invokeFunction('convertToInteractive',\n",
              "                                                     [key], {});\n",
              "          if (!dataTable) return;\n",
              "\n",
              "          const docLinkHtml = 'Like what you see? Visit the ' +\n",
              "            '<a target=\"_blank\" href=https://colab.research.google.com/notebooks/data_table.ipynb>data table notebook</a>'\n",
              "            + ' to learn more about interactive tables.';\n",
              "          element.innerHTML = '';\n",
              "          dataTable['output_type'] = 'display_data';\n",
              "          await google.colab.output.renderOutput(dataTable, element);\n",
              "          const docLink = document.createElement('div');\n",
              "          docLink.innerHTML = docLinkHtml;\n",
              "          element.appendChild(docLink);\n",
              "        }\n",
              "      </script>\n",
              "    </div>\n",
              "  </div>\n",
              "  "
            ]
          },
          "metadata": {},
          "execution_count": 12
        }
      ]
    },
    {
      "cell_type": "markdown",
      "source": [
        "**BARPLOT**"
      ],
      "metadata": {
        "id": "uoLX9bh7SbTp"
      }
    },
    {
      "cell_type": "code",
      "source": [
        "#checking the impact of satisfaction in usefulness\n",
        "plt.rcParams['figure.figsize']=(10,5)\n",
        "sns.barplot(df['Satisfaction'],df['UsefulCount'],palette='hot')\n",
        "plt.show()"
      ],
      "metadata": {
        "colab": {
          "base_uri": "https://localhost:8080/",
          "height": 334
        },
        "id": "BSwCIvYoSfRL",
        "outputId": "5cc689af-0445-4843-dc46-c7c548f7e436"
      },
      "execution_count": 13,
      "outputs": [
        {
          "output_type": "display_data",
          "data": {
            "text/plain": [
              "<Figure size 720x360 with 1 Axes>"
            ],
            "image/png": "[encoded data removed]"
          },
          "metadata": {
            "needs_background": "light"
          }
        }
      ]
    },
    {
      "cell_type": "code",
      "source": [
        "#checking the impact of Effectivness in usefulness\n",
        "sns.barplot(df['Effectiveness'],df['UsefulCount'],palette='hot')\n",
        "plt.show()"
      ],
      "metadata": {
        "colab": {
          "base_uri": "https://localhost:8080/",
          "height": 335
        },
        "id": "93p21u4rSjMT",
        "outputId": "674f6201-42ea-4a28-e66b-480146fad74f"
      },
      "execution_count": 14,
      "outputs": [
        {
          "output_type": "display_data",
          "data": {
            "text/plain": [
              "<Figure size 720x360 with 1 Axes>"
            ],
            "image/png": "[encoded data removed]"
          },
          "metadata": {
            "needs_background": "light"
          }
        }
      ]
    },
    {
      "cell_type": "code",
      "source": [
        "#Checking effectiveness Distribution\n",
        "eff_=df['Effectiveness'].value_counts().sort_values(ascending=False).reset_index().\\\n",
        "rename(columns = {'index' :'Effectiveness', 'Effectiveness' : 'counts'})\n",
        "eff_['percent'] = 100 * (eff_['counts']/df.shape[0])\n",
        "print(eff_)"
      ],
      "metadata": {
        "colab": {
          "base_uri": "https://localhost:8080/"
        },
        "id": "uDP7okoYSl9v",
        "outputId": "e01fcb52-a9e1-4844-b41b-73422ce12f4c"
      },
      "execution_count": 15,
      "outputs": [
        {
          "output_type": "stream",
          "name": "stdout",
          "text": [
            "   Effectiveness  counts    percent\n",
            "0              5  130388  35.938766\n",
            "1              4   81821  22.552273\n",
            "2              3   60406  16.649670\n",
            "3              1   59387  16.368803\n",
            "4              2   30801   8.489661\n",
            "5              6       2   0.000551\n",
            "6             10       1   0.000276\n"
          ]
        }
      ]
    },
    {
      "cell_type": "markdown",
      "source": [
        "• More than 35% of reviews says that the drugs has effectiveness of 5 out of 10.There are effectiveness less than five and the reviews on this is in between 5% - 25%.\n",
        "\n",
        "• Those whose says the effectiveness is higher than 5 is very less and it is countable."
      ],
      "metadata": {
        "id": "lj7reVgLSqhI"
      }
    },
    {
      "cell_type": "code",
      "source": [
        "#plot a bargraph to check top 20 drugs used\n",
        "plt.figure(figsize=(5,5))\n",
        "df['Drug'].value_counts().nlargest(20).plot(kind='bar')\n",
        "plt.title(\"Top 20 Most popular drugs based on counts\")\n",
        "plt.show()"
      ],
      "metadata": {
        "colab": {
          "base_uri": "https://localhost:8080/",
          "height": 582
        },
        "id": "mzWzQi5_SuWw",
        "outputId": "b0fe4ab2-7dcb-4de5-b135-793c7b1fdcda"
      },
      "execution_count": 16,
      "outputs": [
        {
          "output_type": "display_data",
          "data": {
            "text/plain": [
              "<Figure size 360x360 with 1 Axes>"
            ],
            "image/png": "[encoded data removed]"
          },
          "metadata": {
            "needs_background": "light"
          }
        }
      ]
    },
    {
      "cell_type": "markdown",
      "source": [
        "• The most commonly used drug is Cymbalta.\n",
        "\n",
        "• The top four drugs has count of reviews around 4000 and above.\n",
        "\n",
        "• If we look at the top 20, around 2000 people has given reviews on each drug"
      ],
      "metadata": {
        "id": "jlGbsNZ6SxO6"
      }
    },
    {
      "cell_type": "code",
      "source": [
        "#plot a bargraph to check top 20 conditions\n",
        "plt.figure(figsize=(5,5))\n",
        "df['Condition'].value_counts().nlargest(20).plot(kind='bar',figsize=(20,10))\n",
        "plt.title(\"Top 20 Most popular conditions based on counts\")\n",
        "plt.show()"
      ],
      "metadata": {
        "colab": {
          "base_uri": "https://localhost:8080/",
          "height": 881
        },
        "id": "uvjQhYjrS0We",
        "outputId": "a68bfb96-0b0d-4ac6-af14-45d1b2c3b7ee"
      },
      "execution_count": 17,
      "outputs": [
        {
          "output_type": "display_data",
          "data": {
            "text/plain": [
              "<Figure size 1440x720 with 1 Axes>"
            ],
            "image/png": "[encoded data removed]"
          },
          "metadata": {
            "needs_background": "light"
          }
        }
      ]
    },
    {
      "cell_type": "markdown",
      "source": [
        "The top most condition is other than listed conditions.\n",
        "\n",
        "The unlisted condition i.e, 'Other' comes around 50000 and above.\n",
        "\n",
        "other than top one condition pain and high blood pressure conditions uses more medicine"
      ],
      "metadata": {
        "id": "JaV_strlS5H0"
      }
    },
    {
      "cell_type": "markdown",
      "source": [
        "**PIE PLOT**"
      ],
      "metadata": {
        "id": "v0gPidFZS7yD"
      }
    },
    {
      "cell_type": "code",
      "source": [
        "#pieplot\n",
        "ax = df.Sex.value_counts().plot.pie(subplots = True,figsize = (8,4), title = \"Gender Distribution\")"
      ],
      "metadata": {
        "colab": {
          "base_uri": "https://localhost:8080/",
          "height": 277
        },
        "id": "-KbSzWUvVFwo",
        "outputId": "9bd5bfb0-520f-46a2-9970-a8bed4f282da"
      },
      "execution_count": 27,
      "outputs": [
        {
          "output_type": "display_data",
          "data": {
            "text/plain": [
              "<Figure size 576x288 with 1 Axes>"
            ],
            "image/png": "[encoded data removed]"
          },
          "metadata": {}
        }
      ]
    },
    {
      "cell_type": "markdown",
      "source": [
        "Here we can see there is another data entry which is neither male or female in the gender column. We have to deal with it in the preprocessing part"
      ],
      "metadata": {
        "id": "jXyMP_pcTA4V"
      }
    },
    {
      "cell_type": "code",
      "source": [
        "age = df['Age'].value_counts()\n",
        "plt.pie(age.values, labels=age.index)\n",
        "plt.show()"
      ],
      "metadata": {
        "colab": {
          "base_uri": "https://localhost:8080/",
          "height": 303
        },
        "id": "zhbkr8G0TBm0",
        "outputId": "e7ef7544-cdee-4026-87b3-4cabf35f6b9b"
      },
      "execution_count": 18,
      "outputs": [
        {
          "output_type": "display_data",
          "data": {
            "text/plain": [
              "<Figure size 720x360 with 1 Axes>"
            ],
            "image/png": "[encoded data removed]"
          },
          "metadata": {}
        }
      ]
    },
    {
      "cell_type": "markdown",
      "source": [
        "**MISSING VALUES**"
      ],
      "metadata": {
        "id": "uohu3wvJTIQW"
      }
    },
    {
      "cell_type": "code",
      "source": [
        "#search for null values \n",
        "df.isna().sum()"
      ],
      "metadata": {
        "colab": {
          "base_uri": "https://localhost:8080/"
        },
        "id": "EUgW7IERUz68",
        "outputId": "cd2dad52-a293-49ce-cca7-5b434fcad95b"
      },
      "execution_count": 28,
      "outputs": [
        {
          "output_type": "execute_result",
          "data": {
            "text/plain": [
              "Age              0\n",
              "Condition        0\n",
              "Date             0\n",
              "Drug             0\n",
              "DrugId           0\n",
              "EaseofUse        0\n",
              "Effectiveness    0\n",
              "Reviews          0\n",
              "Satisfaction     0\n",
              "Sex              0\n",
              "Sides            0\n",
              "UsefulCount      0\n",
              "dtype: int64"
            ]
          },
          "metadata": {},
          "execution_count": 28
        }
      ]
    },
    {
      "cell_type": "markdown",
      "source": [
        "Here we can see that there are several null values in review column. "
      ],
      "metadata": {
        "id": "snyt8GyoVRhP"
      }
    },
    {
      "cell_type": "code",
      "source": [
        "#Lets drop them\n",
        "df= df.dropna()"
      ],
      "metadata": {
        "id": "qgycTLLDTM6Q"
      },
      "execution_count": 29,
      "outputs": []
    },
    {
      "cell_type": "code",
      "source": [
        "df.isna().sum()"
      ],
      "metadata": {
        "colab": {
          "base_uri": "https://localhost:8080/"
        },
        "id": "J9OhckWDTPzm",
        "outputId": "eaedcb8d-d4b5-45cf-a6bb-a7e3fe9e29ab"
      },
      "execution_count": 30,
      "outputs": [
        {
          "output_type": "execute_result",
          "data": {
            "text/plain": [
              "Age              0\n",
              "Condition        0\n",
              "Date             0\n",
              "Drug             0\n",
              "DrugId           0\n",
              "EaseofUse        0\n",
              "Effectiveness    0\n",
              "Reviews          0\n",
              "Satisfaction     0\n",
              "Sex              0\n",
              "Sides            0\n",
              "UsefulCount      0\n",
              "dtype: int64"
            ]
          },
          "metadata": {},
          "execution_count": 30
        }
      ]
    },
    {
      "cell_type": "markdown",
      "source": [
        "All the missing values in this dataset are handled"
      ],
      "metadata": {
        "id": "pXB13BCKTcoR"
      }
    },
    {
      "cell_type": "markdown",
      "source": [
        "**UNIQUE VALUES**"
      ],
      "metadata": {
        "id": "q0gCQMkRThFH"
      }
    },
    {
      "cell_type": "code",
      "source": [
        "#Lets check the number of unique values in each columns\n",
        "data= [[col, df[col].nunique()] for col in df.columns.difference(['Reviews'])]\n",
        "uniques = pd.DataFrame(data= data, columns=['columns','number of unique values'])\n",
        "print(uniques)"
      ],
      "metadata": {
        "id": "5GQve0hYTj_W"
      },
      "execution_count": null,
      "outputs": []
    },
    {
      "cell_type": "markdown",
      "source": [
        "There are more drug than drug ID values. This means that some kind of pecularity in the drugs are named"
      ],
      "metadata": {
        "id": "eFMjNdKVTokP"
      }
    },
    {
      "cell_type": "markdown",
      "source": [
        "**COUNT PLOT**"
      ],
      "metadata": {
        "id": "mScjmJUCTw-p"
      }
    },
    {
      "cell_type": "code",
      "source": [
        "sns.countplot('Age', data= df)\n",
        "plt.title('AGE GROUP USES DRUG MORE')\n",
        "plt.show()"
      ],
      "metadata": {
        "colab": {
          "base_uri": "https://localhost:8080/",
          "height": 350
        },
        "id": "4I0a1NRbTy34",
        "outputId": "4a5c5841-8727-4133-a9bd-e66c529e4f04"
      },
      "execution_count": 21,
      "outputs": [
        {
          "output_type": "display_data",
          "data": {
            "text/plain": [
              "<Figure size 720x360 with 1 Axes>"
            ],
            "image/png": "[encoded data removed]"
          },
          "metadata": {
            "needs_background": "light"
          }
        }
      ]
    },
    {
      "cell_type": "markdown",
      "source": [
        "Here we can see that age 45-54 uses more drugs than others"
      ],
      "metadata": {
        "id": "iWdoUaX4T2bX"
      }
    },
    {
      "cell_type": "markdown",
      "source": [
        "# **DATA PREPROCESSING**"
      ],
      "metadata": {
        "id": "cmC3d31IT41n"
      }
    },
    {
      "cell_type": "markdown",
      "source": [
        "strip leading and trailing white spaces from string type data."
      ],
      "metadata": {
        "id": "I32fbZGRT9q9"
      }
    },
    {
      "cell_type": "code",
      "source": [
        "for col in df.columns:\n",
        "    if df[col].dtype.kind == 'O':\n",
        "        df[col]=df[col].str.strip()"
      ],
      "metadata": {
        "id": "6OcpEwD0T_j1"
      },
      "execution_count": 22,
      "outputs": []
    },
    {
      "cell_type": "code",
      "source": [
        "df.head()"
      ],
      "metadata": {
        "colab": {
          "base_uri": "https://localhost:8080/",
          "height": 337
        },
        "id": "rn8XdfcJUBuN",
        "outputId": "b5f7ce59-14ee-477c-b7c1-e1a265fb8624"
      },
      "execution_count": 23,
      "outputs": [
        {
          "output_type": "execute_result",
          "data": {
            "text/plain": [
              "          Age      Condition       Date                          Drug  DrugId  \\\n",
              "0  75 or over    Stuffy Nose  9/21/2014                  25dph-7.5peh  146724   \n",
              "1       25-34  Cold Symptoms  1/13/2011                  25dph-7.5peh  146724   \n",
              "2       65-74          Other  7/16/2012  warfarin (bulk) 100 % powder  144731   \n",
              "3  75 or over          Other  9/23/2010  warfarin (bulk) 100 % powder  144731   \n",
              "4       35-44          Other   1/6/2009  warfarin (bulk) 100 % powder  144731   \n",
              "\n",
              "   EaseofUse  Effectiveness  \\\n",
              "0          5              5   \n",
              "1          5              5   \n",
              "2          2              3   \n",
              "3          2              2   \n",
              "4          1              1   \n",
              "\n",
              "                                             Reviews  Satisfaction     Sex  \\\n",
              "0  I'm a retired physician and of all the meds I ...             5    Male   \n",
              "1  cleared me right up even with my throat hurtin...             5  Female   \n",
              "2  why did my PTINR go from a normal of 2.5 to ov...             3  Female   \n",
              "3                       FALLING AND DON'T REALISE IT             1  Female   \n",
              "4  My grandfather was prescribed this medication ...             1    Male   \n",
              "\n",
              "                                               Sides  UsefulCount  \n",
              "0  Drowsiness,  dizziness ,  dry mouth /nose/thro...            0  \n",
              "1  Drowsiness,  dizziness ,  dry mouth /nose/thro...            1  \n",
              "2                                                               0  \n",
              "3                                                               0  \n",
              "4                                                               1  "
            ],
            "text/html": [
              "\n",
              "  <div id=\"df-895b18de-4957-49ca-bf15-c00e80499284\">\n",
              "    <div class=\"colab-df-container\">\n",
              "      <div>\n",
              "<style scoped>\n",
              "    .dataframe tbody tr th:only-of-type {\n",
              "        vertical-align: middle;\n",
              "    }\n",
              "\n",
              "    .dataframe tbody tr th {\n",
              "        vertical-align: top;\n",
              "    }\n",
              "\n",
              "    .dataframe thead th {\n",
              "        text-align: right;\n",
              "    }\n",
              "</style>\n",
              "<table border=\"1\" class=\"dataframe\">\n",
              "  <thead>\n",
              "    <tr style=\"text-align: right;\">\n",
              "      <th></th>\n",
              "      <th>Age</th>\n",
              "      <th>Condition</th>\n",
              "      <th>Date</th>\n",
              "      <th>Drug</th>\n",
              "      <th>DrugId</th>\n",
              "      <th>EaseofUse</th>\n",
              "      <th>Effectiveness</th>\n",
              "      <th>Reviews</th>\n",
              "      <th>Satisfaction</th>\n",
              "      <th>Sex</th>\n",
              "      <th>Sides</th>\n",
              "      <th>UsefulCount</th>\n",
              "    </tr>\n",
              "  </thead>\n",
              "  <tbody>\n",
              "    <tr>\n",
              "      <th>0</th>\n",
              "      <td>75 or over</td>\n",
              "      <td>Stuffy Nose</td>\n",
              "      <td>9/21/2014</td>\n",
              "      <td>25dph-7.5peh</td>\n",
              "      <td>146724</td>\n",
              "      <td>5</td>\n",
              "      <td>5</td>\n",
              "      <td>I'm a retired physician and of all the meds I ...</td>\n",
              "      <td>5</td>\n",
              "      <td>Male</td>\n",
              "      <td>Drowsiness,  dizziness ,  dry mouth /nose/thro...</td>\n",
              "      <td>0</td>\n",
              "    </tr>\n",
              "    <tr>\n",
              "      <th>1</th>\n",
              "      <td>25-34</td>\n",
              "      <td>Cold Symptoms</td>\n",
              "      <td>1/13/2011</td>\n",
              "      <td>25dph-7.5peh</td>\n",
              "      <td>146724</td>\n",
              "      <td>5</td>\n",
              "      <td>5</td>\n",
              "      <td>cleared me right up even with my throat hurtin...</td>\n",
              "      <td>5</td>\n",
              "      <td>Female</td>\n",
              "      <td>Drowsiness,  dizziness ,  dry mouth /nose/thro...</td>\n",
              "      <td>1</td>\n",
              "    </tr>\n",
              "    <tr>\n",
              "      <th>2</th>\n",
              "      <td>65-74</td>\n",
              "      <td>Other</td>\n",
              "      <td>7/16/2012</td>\n",
              "      <td>warfarin (bulk) 100 % powder</td>\n",
              "      <td>144731</td>\n",
              "      <td>2</td>\n",
              "      <td>3</td>\n",
              "      <td>why did my PTINR go from a normal of 2.5 to ov...</td>\n",
              "      <td>3</td>\n",
              "      <td>Female</td>\n",
              "      <td></td>\n",
              "      <td>0</td>\n",
              "    </tr>\n",
              "    <tr>\n",
              "      <th>3</th>\n",
              "      <td>75 or over</td>\n",
              "      <td>Other</td>\n",
              "      <td>9/23/2010</td>\n",
              "      <td>warfarin (bulk) 100 % powder</td>\n",
              "      <td>144731</td>\n",
              "      <td>2</td>\n",
              "      <td>2</td>\n",
              "      <td>FALLING AND DON'T REALISE IT</td>\n",
              "      <td>1</td>\n",
              "      <td>Female</td>\n",
              "      <td></td>\n",
              "      <td>0</td>\n",
              "    </tr>\n",
              "    <tr>\n",
              "      <th>4</th>\n",
              "      <td>35-44</td>\n",
              "      <td>Other</td>\n",
              "      <td>1/6/2009</td>\n",
              "      <td>warfarin (bulk) 100 % powder</td>\n",
              "      <td>144731</td>\n",
              "      <td>1</td>\n",
              "      <td>1</td>\n",
              "      <td>My grandfather was prescribed this medication ...</td>\n",
              "      <td>1</td>\n",
              "      <td>Male</td>\n",
              "      <td></td>\n",
              "      <td>1</td>\n",
              "    </tr>\n",
              "  </tbody>\n",
              "</table>\n",
              "</div>\n",
              "      <button class=\"colab-df-convert\" onclick=\"convertToInteractive('df-895b18de-4957-49ca-bf15-c00e80499284')\"\n",
              "              title=\"Convert this dataframe to an interactive table.\"\n",
              "              style=\"display:none;\">\n",
              "        \n",
              "  <svg xmlns=\"http://www.w3.org/2000/svg\" height=\"24px\"viewBox=\"0 0 24 24\"\n",
              "       width=\"24px\">\n",
              "    <path d=\"M0 0h24v24H0V0z\" fill=\"none\"/>\n",
              "    <path d=\"M18.56 5.44l.94 2.06.94-2.06 2.06-.94-2.06-.94-.94-2.06-.94 2.06-2.06.94zm-11 1L8.5 8.5l.94-2.06 2.06-.94-2.06-.94L8.5 2.5l-.94 2.06-2.06.94zm10 10l.94 2.06.94-2.06 2.06-.94-2.06-.94-.94-2.06-.94 2.06-2.06.94z\"/><path d=\"M17.41 7.96l-1.37-1.37c-.4-.4-.92-.59-1.43-.59-.52 0-1.04.2-1.43.59L10.3 9.45l-7.72 7.72c-.78.78-.78 2.05 0 2.83L4 21.41c.39.39.9.59 1.41.59.51 0 1.02-.2 1.41-.59l7.78-7.78 2.81-2.81c.8-.78.8-2.07 0-2.86zM5.41 20L4 18.59l7.72-7.72 1.47 1.35L5.41 20z\"/>\n",
              "  </svg>\n",
              "      </button>\n",
              "      \n",
              "  <style>\n",
              "    .colab-df-container {\n",
              "      display:flex;\n",
              "      flex-wrap:wrap;\n",
              "      gap: 12px;\n",
              "    }\n",
              "\n",
              "    .colab-df-convert {\n",
              "      background-color: #E8F0FE;\n",
              "      border: none;\n",
              "      border-radius: 50%;\n",
              "      cursor: pointer;\n",
              "      display: none;\n",
              "      fill: #1967D2;\n",
              "      height: 32px;\n",
              "      padding: 0 0 0 0;\n",
              "      width: 32px;\n",
              "    }\n",
              "\n",
              "    .colab-df-convert:hover {\n",
              "      background-color: #E2EBFA;\n",
              "      box-shadow: 0px 1px 2px rgba(60, 64, 67, 0.3), 0px 1px 3px 1px rgba(60, 64, 67, 0.15);\n",
              "      fill: #174EA6;\n",
              "    }\n",
              "\n",
              "    [theme=dark] .colab-df-convert {\n",
              "      background-color: #3B4455;\n",
              "      fill: #D2E3FC;\n",
              "    }\n",
              "\n",
              "    [theme=dark] .colab-df-convert:hover {\n",
              "      background-color: #434B5C;\n",
              "      box-shadow: 0px 1px 3px 1px rgba(0, 0, 0, 0.15);\n",
              "      filter: drop-shadow(0px 1px 2px rgba(0, 0, 0, 0.3));\n",
              "      fill: #FFFFFF;\n",
              "    }\n",
              "  </style>\n",
              "\n",
              "      <script>\n",
              "        const buttonEl =\n",
              "          document.querySelector('#df-895b18de-4957-49ca-bf15-c00e80499284 button.colab-df-convert');\n",
              "        buttonEl.style.display =\n",
              "          google.colab.kernel.accessAllowed ? 'block' : 'none';\n",
              "\n",
              "        async function convertToInteractive(key) {\n",
              "          const element = document.querySelector('#df-895b18de-4957-49ca-bf15-c00e80499284');\n",
              "          const dataTable =\n",
              "            await google.colab.kernel.invokeFunction('convertToInteractive',\n",
              "                                                     [key], {});\n",
              "          if (!dataTable) return;\n",
              "\n",
              "          const docLinkHtml = 'Like what you see? Visit the ' +\n",
              "            '<a target=\"_blank\" href=https://colab.research.google.com/notebooks/data_table.ipynb>data table notebook</a>'\n",
              "            + ' to learn more about interactive tables.';\n",
              "          element.innerHTML = '';\n",
              "          dataTable['output_type'] = 'display_data';\n",
              "          await google.colab.output.renderOutput(dataTable, element);\n",
              "          const docLink = document.createElement('div');\n",
              "          docLink.innerHTML = docLinkHtml;\n",
              "          element.appendChild(docLink);\n",
              "        }\n",
              "      </script>\n",
              "    </div>\n",
              "  </div>\n",
              "  "
            ]
          },
          "metadata": {},
          "execution_count": 23
        }
      ]
    }
  ]
}